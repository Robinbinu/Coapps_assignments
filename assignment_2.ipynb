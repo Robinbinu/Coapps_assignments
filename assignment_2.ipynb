{
 "cells": [
  {
   "cell_type": "markdown",
   "metadata": {},
   "source": [
    "Task 1:"
   ]
  },
  {
   "cell_type": "code",
   "execution_count": 2,
   "metadata": {},
   "outputs": [],
   "source": [
    "import numpy as np"
   ]
  },
  {
   "cell_type": "code",
   "execution_count": 3,
   "metadata": {},
   "outputs": [
    {
     "data": {
      "text/plain": [
       "3.0"
      ]
     },
     "execution_count": 3,
     "metadata": {},
     "output_type": "execute_result"
    }
   ],
   "source": [
    "a = np.array([1,2,3,4,5])\n",
    "mean = np.mean(a)\n",
    "mean"
   ]
  },
  {
   "cell_type": "code",
   "execution_count": 5,
   "metadata": {},
   "outputs": [
    {
     "data": {
      "text/plain": [
       "1.4142135623730951"
      ]
     },
     "execution_count": 5,
     "metadata": {},
     "output_type": "execute_result"
    }
   ],
   "source": [
    "st = np.std(a)\n",
    "std"
   ]
  },
  {
   "cell_type": "markdown",
   "metadata": {},
   "source": [
    "Task 2"
   ]
  },
  {
   "cell_type": "code",
   "execution_count": 6,
   "metadata": {},
   "outputs": [
    {
     "data": {
      "text/plain": [
       "array([[0.19011798, 0.03939435, 0.40514571, 0.29503613, 0.74156184],\n",
       "       [0.9836254 , 0.50689119, 0.35489761, 0.63320124, 0.5079877 ],\n",
       "       [0.48522071, 0.54544902, 0.63871338, 0.34232319, 0.40002902],\n",
       "       [0.94257593, 0.76629679, 0.48876757, 0.32954333, 0.77480745],\n",
       "       [0.41076081, 0.30446322, 0.36897251, 0.26317792, 0.50666801]])"
      ]
     },
     "execution_count": 6,
     "metadata": {},
     "output_type": "execute_result"
    }
   ],
   "source": [
    "import numpy as np\n",
    "\n",
    "m = np.random.rand(5, 5)\n",
    "m"
   ]
  },
  {
   "cell_type": "code",
   "execution_count": 12,
   "metadata": {},
   "outputs": [
    {
     "name": "stdout",
     "output_type": "stream",
     "text": [
      "\n",
      "Minimum values along each column:\n",
      "[0.19011798 0.03939435 0.35489761 0.26317792 0.40002902]\n",
      "\n",
      "Maximum values along each column:\n",
      "[0.9836254  0.76629679 0.63871338 0.63320124 0.77480745]\n"
     ]
    }
   ],
   "source": [
    "\n",
    "min_values_cols = np.min(m, axis=0)\n",
    "max_values_cols = np.max(m, axis=0)\n",
    "\n",
    "print(\"\\nMinimum values along each column:\")\n",
    "print(min_values_cols)\n",
    "print(\"\\nMaximum values along each column:\")\n",
    "print(max_values_cols)\n"
   ]
  },
  {
   "cell_type": "code",
   "execution_count": 13,
   "metadata": {},
   "outputs": [
    {
     "name": "stdout",
     "output_type": "stream",
     "text": [
      "\n",
      "Minimum values along each row:\n",
      "[0.03939435 0.35489761 0.34232319 0.32954333 0.26317792]\n",
      "\n",
      "Maximum values along each row:\n",
      "[0.74156184 0.9836254  0.63871338 0.94257593 0.50666801]\n"
     ]
    }
   ],
   "source": [
    "min_values_rows = np.min(m, axis=1)\n",
    "max_values_rows = np.max(m, axis=1)\n",
    "\n",
    "print(\"\\nMinimum values along each row:\")\n",
    "print(min_values_rows)\n",
    "print(\"\\nMaximum values along each row:\")\n",
    "print(max_values_rows)"
   ]
  },
  {
   "cell_type": "markdown",
   "metadata": {},
   "source": [
    "Task 3"
   ]
  },
  {
   "cell_type": "code",
   "execution_count": 14,
   "metadata": {},
   "outputs": [],
   "source": [
    "import numpy as np\n",
    "\n",
    "def cosine_similarity(v1, v2):\n",
    "    dot_product = np.dot(v1, v2)\n",
    "    magnitude_v1 = np.linalg.norm(v1)\n",
    "    magnitude_v2 = np.linalg.norm(v2)\n",
    "    cosine_similarity = dot_product / (magnitude_v1 * magnitude_v2)\n",
    "    return cosine_similarity"
   ]
  },
  {
   "cell_type": "code",
   "execution_count": 15,
   "metadata": {},
   "outputs": [
    {
     "data": {
      "text/plain": [
       "0.9746318461970762"
      ]
     },
     "execution_count": 15,
     "metadata": {},
     "output_type": "execute_result"
    }
   ],
   "source": [
    "v1 = np.array([1, 2, 3])\n",
    "v2 = np.array([4, 5, 6])\n",
    "\n",
    "cosine_similarity(v1, v2)"
   ]
  }
 ],
 "metadata": {
  "kernelspec": {
   "display_name": "Python 3",
   "language": "python",
   "name": "python3"
  },
  "language_info": {
   "codemirror_mode": {
    "name": "ipython",
    "version": 3
   },
   "file_extension": ".py",
   "mimetype": "text/x-python",
   "name": "python",
   "nbconvert_exporter": "python",
   "pygments_lexer": "ipython3",
   "version": "3.11.7"
  }
 },
 "nbformat": 4,
 "nbformat_minor": 2
}
